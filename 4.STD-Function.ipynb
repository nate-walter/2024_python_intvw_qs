{
 "cells": [
  {
   "cell_type": "markdown",
   "metadata": {},
   "source": [
    "Calculate the standard deviation of elements in a list"
   ]
  },
  {
   "cell_type": "code",
   "execution_count": 4,
   "metadata": {},
   "outputs": [],
   "source": [
    "from math import sqrt\n",
    "\n",
    "def std(nums_lst):\n",
    "    if len(nums_lst) > 1:\n",
    "        avg = sum(nums_lst) / len(nums_lst)\n",
    "        variance = sum((i - avg)**2 for i in nums_lst) / (len(nums_lst) - 1)\n",
    "        std = sqrt(variance)\n",
    "        return std\n",
    "    return float(\"NaN\")"
   ]
  },
  {
   "cell_type": "code",
   "execution_count": 5,
   "metadata": {},
   "outputs": [
    {
     "data": {
      "text/plain": [
       "12.409673645990857"
      ]
     },
     "execution_count": 5,
     "metadata": {},
     "output_type": "execute_result"
    }
   ],
   "source": [
    "nums = [2, 4, 6, 8, 10, 12, 14, 16, 18, 20, 22, 24, 26, 28, 30, 32, 34, 36, 38, 40, 42]\n",
    "std(nums)"
   ]
  },
  {
   "cell_type": "code",
   "execution_count": 10,
   "metadata": {},
   "outputs": [],
   "source": [
    "from math import sqrt\n",
    "\n",
    "def std(nums_lst):\n",
    "    if len(nums_lst) > 1:\n",
    "        avg = sum(nums_lst) / len(nums_lst)\n",
    "        variance = sum((i - avg)**2 for i in nums_lst) / (len(nums_lst) - 1)\n",
    "        std = sqrt(variance)\n",
    "        return std\n",
    "    return float(\"NaN\")"
   ]
  },
  {
   "cell_type": "code",
   "execution_count": 11,
   "metadata": {},
   "outputs": [
    {
     "data": {
      "text/plain": [
       "12.409673645990857"
      ]
     },
     "execution_count": 11,
     "metadata": {},
     "output_type": "execute_result"
    }
   ],
   "source": [
    "std(nums)"
   ]
  },
  {
   "cell_type": "code",
   "execution_count": 12,
   "metadata": {},
   "outputs": [],
   "source": [
    "from math import sqrt\n",
    "\n",
    "def std(nums_lst):\n",
    "    if len(nums_lst) > 1:\n",
    "        avg = sum(nums_lst) / len(nums_lst)\n",
    "        variance = sum((i - avg)**2 for i in nums_lst) / (len(nums_lst) -1)\n",
    "        std = sqrt(variance)\n",
    "        return std\n",
    "    return float(\"NaN\")"
   ]
  },
  {
   "cell_type": "code",
   "execution_count": 15,
   "metadata": {},
   "outputs": [
    {
     "data": {
      "text/plain": [
       "nan"
      ]
     },
     "execution_count": 15,
     "metadata": {},
     "output_type": "execute_result"
    }
   ],
   "source": [
    "new_lst = [4_560]\n",
    "std(new_lst)"
   ]
  },
  {
   "cell_type": "code",
   "execution_count": 17,
   "metadata": {},
   "outputs": [
    {
     "data": {
      "text/plain": [
       "12.409673645990857"
      ]
     },
     "execution_count": 17,
     "metadata": {},
     "output_type": "execute_result"
    }
   ],
   "source": [
    "std(nums)"
   ]
  },
  {
   "cell_type": "code",
   "execution_count": 1,
   "metadata": {},
   "outputs": [],
   "source": [
    "from math import sqrt\n",
    "\n",
    "def std(nums_list):\n",
    "    if len(nums_list) > 1:\n",
    "        avg = sum(nums_list) / len(nums_list)\n",
    "        variance = sum((i - avg)**2 for i in nums_list) / (len(nums_list) - 1)\n",
    "        std = sqrt(variance)\n",
    "        return std\n",
    "    return float(\"NaN\")"
   ]
  },
  {
   "cell_type": "code",
   "execution_count": 2,
   "metadata": {},
   "outputs": [],
   "source": [
    "from math import sqrt\n",
    "\n",
    "def std(nums_list):\n",
    "    if len(nums_list) > 1:\n",
    "        mean = sum(nums_list) / len(nums_list)\n",
    "        variance = sum((i - mean)**2 for i in nums_list) / (len(nums_list) - 1)\n",
    "        std = sqrt(variance)\n",
    "        return std\n",
    "    return float(\"NaN\")"
   ]
  },
  {
   "cell_type": "code",
   "execution_count": null,
   "metadata": {},
   "outputs": [],
   "source": []
  }
 ],
 "metadata": {
  "kernelspec": {
   "display_name": "Python 3",
   "language": "python",
   "name": "python3"
  },
  "language_info": {
   "codemirror_mode": {
    "name": "ipython",
    "version": 3
   },
   "file_extension": ".py",
   "mimetype": "text/x-python",
   "name": "python",
   "nbconvert_exporter": "python",
   "pygments_lexer": "ipython3",
   "version": "3.10.2"
  }
 },
 "nbformat": 4,
 "nbformat_minor": 2
}
