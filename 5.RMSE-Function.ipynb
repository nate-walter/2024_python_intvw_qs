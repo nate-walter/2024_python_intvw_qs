{
 "cells": [
  {
   "cell_type": "markdown",
   "metadata": {},
   "source": [
    "Calculate the RMSE (root mean squared error) of a model.<br>The function takes in two lists, one with actual values, one with predictions"
   ]
  },
  {
   "cell_type": "code",
   "execution_count": 7,
   "metadata": {},
   "outputs": [],
   "source": [
    "from math import sqrt\n",
    "\n",
    "def rmse(y_true, y_pred):\n",
    "    assert (len(y_true) == len(y_pred)), \"Different size lists for y_true and y_pred\"\n",
    "    squares = sum((x - y)**2 for x, y in zip(y_true, y_pred))\n",
    "    return sqrt(squares / len(y_true))"
   ]
  },
  {
   "cell_type": "code",
   "execution_count": 8,
   "metadata": {},
   "outputs": [
    {
     "ename": "AssertionError",
     "evalue": "Different size lists for y_true and y_pred",
     "output_type": "error",
     "traceback": [
      "\u001b[1;31m---------------------------------------------------------------------------\u001b[0m",
      "\u001b[1;31mAssertionError\u001b[0m                            Traceback (most recent call last)",
      "Cell \u001b[1;32mIn[8], line 4\u001b[0m\n\u001b[0;32m      1\u001b[0m actual_0 \u001b[38;5;241m=\u001b[39m [\u001b[38;5;241m200\u001b[39m, \u001b[38;5;241m300\u001b[39m, \u001b[38;5;241m400\u001b[39m, \u001b[38;5;241m500\u001b[39m, \u001b[38;5;241m600\u001b[39m, \u001b[38;5;241m700\u001b[39m, \u001b[38;5;241m800\u001b[39m, \u001b[38;5;241m900\u001b[39m, \u001b[38;5;241m1000\u001b[39m]\n\u001b[0;32m      2\u001b[0m predicted_0 \u001b[38;5;241m=\u001b[39m [\u001b[38;5;241m250\u001b[39m, \u001b[38;5;241m350\u001b[39m, \u001b[38;5;241m450\u001b[39m, \u001b[38;5;241m550\u001b[39m, \u001b[38;5;241m650\u001b[39m, \u001b[38;5;241m750\u001b[39m, \u001b[38;5;241m850\u001b[39m, \u001b[38;5;241m950\u001b[39m]\n\u001b[1;32m----> 4\u001b[0m \u001b[43mrmse\u001b[49m\u001b[43m(\u001b[49m\u001b[43mactual_0\u001b[49m\u001b[43m,\u001b[49m\u001b[43m \u001b[49m\u001b[43mpredicted_0\u001b[49m\u001b[43m)\u001b[49m\n",
      "Cell \u001b[1;32mIn[7], line 4\u001b[0m, in \u001b[0;36mrmse\u001b[1;34m(y_true, y_pred)\u001b[0m\n\u001b[0;32m      3\u001b[0m \u001b[38;5;28;01mdef\u001b[39;00m \u001b[38;5;21mrmse\u001b[39m(y_true, y_pred):\n\u001b[1;32m----> 4\u001b[0m     \u001b[38;5;28;01massert\u001b[39;00m (\u001b[38;5;28mlen\u001b[39m(y_true) \u001b[38;5;241m==\u001b[39m \u001b[38;5;28mlen\u001b[39m(y_pred)), \u001b[38;5;124m\"\u001b[39m\u001b[38;5;124mDifferent size lists for y_true and y_pred\u001b[39m\u001b[38;5;124m\"\u001b[39m\n\u001b[0;32m      5\u001b[0m     squares \u001b[38;5;241m=\u001b[39m \u001b[38;5;28msum\u001b[39m((x \u001b[38;5;241m-\u001b[39m y)\u001b[38;5;241m*\u001b[39m\u001b[38;5;241m*\u001b[39m\u001b[38;5;241m2\u001b[39m \u001b[38;5;28;01mfor\u001b[39;00m x, y \u001b[38;5;129;01min\u001b[39;00m \u001b[38;5;28mzip\u001b[39m(y_true, y_pred))\n\u001b[0;32m      6\u001b[0m     \u001b[38;5;28;01mreturn\u001b[39;00m sqrt(squares \u001b[38;5;241m/\u001b[39m \u001b[38;5;28mlen\u001b[39m(y_true))\n",
      "\u001b[1;31mAssertionError\u001b[0m: Different size lists for y_true and y_pred"
     ]
    }
   ],
   "source": [
    "actual_0 = [200, 300, 400, 500, 600, 700, 800, 900, 1000]\n",
    "predicted_0 = [250, 350, 450, 550, 650, 750, 850, 950]\n",
    "\n",
    "rmse(actual_0, predicted_0)"
   ]
  },
  {
   "cell_type": "code",
   "execution_count": 9,
   "metadata": {},
   "outputs": [
    {
     "data": {
      "text/plain": [
       "50.0"
      ]
     },
     "execution_count": 9,
     "metadata": {},
     "output_type": "execute_result"
    }
   ],
   "source": [
    "actual_1 = [200, 300, 400, 500, 600, 700, 800, 900, 1000]\n",
    "predicted_1 = [250, 350, 450, 550, 650, 750, 850, 950, 1050]\n",
    "\n",
    "rmse(actual_1, predicted_1)"
   ]
  },
  {
   "cell_type": "code",
   "execution_count": null,
   "metadata": {},
   "outputs": [],
   "source": []
  }
 ],
 "metadata": {
  "kernelspec": {
   "display_name": "Python 3",
   "language": "python",
   "name": "python3"
  },
  "language_info": {
   "codemirror_mode": {
    "name": "ipython",
    "version": 3
   },
   "file_extension": ".py",
   "mimetype": "text/x-python",
   "name": "python",
   "nbconvert_exporter": "python",
   "pygments_lexer": "ipython3",
   "version": "3.10.2"
  }
 },
 "nbformat": 4,
 "nbformat_minor": 2
}
