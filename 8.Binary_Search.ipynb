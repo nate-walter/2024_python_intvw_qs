{
 "cells": [
  {
   "cell_type": "markdown",
   "metadata": {},
   "source": [
    "Practice Question: Binary Search\n",
    "\n",
    "Description: Implement a function that performs a binary search on a sorted array of integers. The function should return the index of the target value if it's found in the array, or -1 if it's not present.\n",
    "\n",
    "Example:\n",
    "Input: arr = [1, 2, 3, 4, 5, 6, 7], target = 5\n",
    "Output: 4 (since arr[4] is 5)\n",
    "\n",
    "Binary Search Algorithm:\n",
    "\n",
    "    Find the middle element of the array.\n",
    "    If the middle element is equal to the target, return the index of the middle element.\n",
    "    If the target is less than the middle element, repeat the search on the left subarray.\n",
    "    If the target is greater than the middle element, repeat the search on the right subarray."
   ]
  },
  {
   "cell_type": "code",
   "execution_count": 3,
   "metadata": {},
   "outputs": [],
   "source": [
    "def binary_search(arra, target):\n",
    "    low = 0\n",
    "    high = len(arra) -1\n",
    "\n",
    "    while low <= high:\n",
    "        mid = (low + high) // 2\n",
    "        if arra[mid] == target:\n",
    "            return mid\n",
    "        elif arra[mid] < target:\n",
    "            low = mid + 1\n",
    "        else:\n",
    "            high = mid - 1\n",
    "    return -1 # Target is not in the array"
   ]
  },
  {
   "cell_type": "code",
   "execution_count": 4,
   "metadata": {},
   "outputs": [
    {
     "name": "stdout",
     "output_type": "stream",
     "text": [
      "4\n"
     ]
    }
   ],
   "source": [
    "# Test the function\n",
    "\n",
    "arra = [1, 2, 3, 4, 5, 6, 7]\n",
    "target = 5\n",
    "print(binary_search(arra, target))"
   ]
  },
  {
   "cell_type": "code",
   "execution_count": null,
   "metadata": {},
   "outputs": [],
   "source": []
  }
 ],
 "metadata": {
  "kernelspec": {
   "display_name": "Python 3",
   "language": "python",
   "name": "python3"
  },
  "language_info": {
   "codemirror_mode": {
    "name": "ipython",
    "version": 3
   },
   "file_extension": ".py",
   "mimetype": "text/x-python",
   "name": "python",
   "nbconvert_exporter": "python",
   "pygments_lexer": "ipython3",
   "version": "3.10.12"
  }
 },
 "nbformat": 4,
 "nbformat_minor": 2
}
